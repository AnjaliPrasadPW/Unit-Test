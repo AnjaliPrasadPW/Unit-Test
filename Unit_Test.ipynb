{
  "nbformat": 4,
  "nbformat_minor": 0,
  "metadata": {
    "colab": {
      "provenance": []
    },
    "kernelspec": {
      "name": "python3",
      "display_name": "Python 3"
    },
    "language_info": {
      "name": "python"
    }
  },
  "cells": [
    {
      "cell_type": "markdown",
      "source": [
        "1. Implement unit tests, integration tests, and end-to-end tests for a sample\n",
        "application using frameworks like JUnit, TestNG, or Selenium?"
      ],
      "metadata": {
        "id": "oj53Fu1VbcqT"
      }
    },
    {
      "cell_type": "code",
      "source": [
        "\n",
        "##1. Sample Application: User Login System\n",
        "# Assume created Class: UserService\n",
        "\n",
        "public class UserService {\n",
        "    private UserRepository userRepository;\n",
        "\n",
        "    public UserService(UserRepository repo) {\n",
        "        this.userRepository = repo;\n",
        "    }\n",
        "\n",
        "    public boolean login(String username, String password) {\n",
        "        User user = userRepository.findByUsername(username);\n",
        "        return user != null && user.getPassword().equals(password);\n",
        "    }\n",
        "}\n"
      ],
      "metadata": {
        "id": "dcOG7Wy2breE"
      },
      "execution_count": null,
      "outputs": []
    },
    {
      "cell_type": "code",
      "source": [
        "##2. Unit Test (Using JUnit)\n",
        "\n",
        "# Test UserService.login() in isolation by mocking UserRepository.\n",
        "\n",
        "import static org.mockito.Mockito.*;\n",
        "import static org.junit.jupiter.api.Assertions.*;\n",
        "import org.junit.jupiter.api.Test;\n",
        "\n",
        "public class UserServiceTest {\n",
        "\n",
        "    @Test\n",
        "    public void testLogin_Successful() {\n",
        "        UserRepository mockRepo = mock(UserRepository.class);\n",
        "        when(mockRepo.findByUsername(\"john\")).thenReturn(new User(\"john\", \"1234\"));\n",
        "\n",
        "        UserService userService = new UserService(mockRepo);\n",
        "\n",
        "        boolean result = userService.login(\"john\", \"1234\");\n",
        "        assertTrue(result);\n",
        "    }\n",
        "\n",
        "    @Test\n",
        "    public void testLogin_Failure_WrongPassword() {\n",
        "        UserRepository mockRepo = mock(UserRepository.class);\n",
        "        when(mockRepo.findByUsername(\"john\")).thenReturn(new User(\"john\", \"1234\"));\n",
        "\n",
        "        UserService userService = new UserService(mockRepo);\n",
        "\n",
        "        boolean result = userService.login(\"john\", \"wrongpass\");\n",
        "        assertFalse(result);\n",
        "    }\n",
        "}"
      ],
      "metadata": {
        "id": "6XyiD64Db1Hg"
      },
      "execution_count": null,
      "outputs": []
    },
    {
      "cell_type": "code",
      "source": [
        "##3. Integration Test\n",
        "\n",
        "\n",
        "# Here, you test interaction between UserService and a real (in-memory) UserRepository.\n",
        "\n",
        "import org.junit.jupiter.api.BeforeEach;\n",
        "import org.junit.jupiter.api.Test;\n",
        "import static org.junit.jupiter.api.Assertions.*;\n",
        "\n",
        "public class UserServiceIntegrationTest {\n",
        "\n",
        "    private UserService userService;\n",
        "\n",
        "    @BeforeEach\n",
        "    public void setup() {\n",
        "        InMemoryUserRepository repo = new InMemoryUserRepository();\n",
        "        repo.save(new User(\"john\", \"1234\"));\n",
        "        userService = new UserService(repo);\n",
        "    }\n",
        "\n",
        "    @Test\n",
        "    public void testLogin_WithRealRepo() {\n",
        "        assertTrue(userService.login(\"john\", \"1234\"));\n",
        "        assertFalse(userService.login(\"john\", \"wrong\"));\n",
        "    }\n",
        "}\n",
        "\n"
      ],
      "metadata": {
        "id": "_veiePXwb9sF"
      },
      "execution_count": null,
      "outputs": []
    },
    {
      "cell_type": "code",
      "source": [
        "##4. End-to-End Test (Using Selenium WebDriver)\n",
        "import org.openqa.selenium.By;\n",
        "import org.openqa.selenium.WebDriver;\n",
        "import org.openqa.selenium.WebElement;\n",
        "import org.openqa.selenium.chrome.ChromeDriver;\n",
        "import org.junit.jupiter.api.*;\n",
        "\n",
        "public class LoginE2ETest {\n",
        "\n",
        "    private WebDriver driver;\n",
        "\n",
        "    @BeforeEach\n",
        "    public void setup() {\n",
        "        System.setProperty(\"webdriver.chrome.driver\", \"path/to/chromedriver\");\n",
        "        driver = new ChromeDriver();\n",
        "        driver.get(\"http://localhost:8080/login\");\n",
        "    }\n",
        "\n",
        "    @Test\n",
        "    public void testLoginSuccess() {\n",
        "        WebElement userField = driver.findElement(By.id(\"username\"));\n",
        "        WebElement passField = driver.findElement(By.id(\"password\"));\n",
        "        WebElement form = driver.findElement(By.id(\"loginForm\"));\n",
        "\n",
        "        userField.sendKeys(\"john\");\n",
        "        passField.sendKeys(\"1234\");\n",
        "        form.submit();\n",
        "\n",
        "        Assertions.assertTrue(driver.getCurrentUrl().contains(\"dashboard\")); // or check login success message\n",
        "    }\n",
        "\n",
        "    @AfterEach\n",
        "    public void teardown() {\n",
        "        driver.quit();\n",
        "    }\n",
        "}"
      ],
      "metadata": {
        "id": "ARZcbHB5cIrI"
      },
      "execution_count": null,
      "outputs": []
    },
    {
      "cell_type": "code",
      "execution_count": null,
      "metadata": {
        "id": "YM4shsUZbaor"
      },
      "outputs": [],
      "source": []
    }
  ]
}